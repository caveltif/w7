{
 "cells": [
  {
   "cell_type": "markdown",
   "id": "8f6c8e78",
   "metadata": {},
   "source": [
    "# Week 7 Diversity Analysis, Rarefaction and Significance Tests\n",
    "\n",
    "In this tutorial we will be looking into diversity analysis with preprocessed feature tables obtained from the Human Microbiome Project. For this we will be going through the following steps:         \n",
    "\n",
    "\n",
    "[1. Download and import datasets](#sec1)                \n",
    "[2. Alpha rarefaction](#sec2)         \n",
    "[3. Diversity analysis](#sec3)         \n",
    "[3.1 Alpha diversity](#sec3.1)            \n",
    "[3.2 Beta diversity](#sec3.2)              "
   ]
  },
  {
   "cell_type": "code",
   "execution_count": 1,
   "id": "97348f89",
   "metadata": {},
   "outputs": [
    {
     "name": "stdout",
     "output_type": "stream",
     "text": [
      "Enabling: qiime2.jupyter\r\n",
      "- Writing config: /home/qiime2/miniconda/envs/qiime2-2021.8/etc/jupyter\r\n",
      "    - Validating...\r\n",
      "      qiime2.jupyter  \u001b[32mOK\u001b[0m\r\n"
     ]
    }
   ],
   "source": [
    "# importing all required packages & notebook extensions at the start of the notebook\n",
    "import os\n",
    "from qiime2 import Visualization\n",
    "\n",
    "! jupyter serverextension enable --py qiime2 --sys-prefix"
   ]
  },
  {
   "cell_type": "code",
   "execution_count": 2,
   "id": "51b45c82",
   "metadata": {},
   "outputs": [],
   "source": [
    "# assigning variables throughout the notebook\n",
    "\n",
    "# location of this week's data and all the results produced by this notebook \n",
    "# - this should be a path relative to your working directory\n",
    "data_dir = 'w7_data'\n",
    "\n",
    "# Create a folder in current working directory to save downloaded files into:\n",
    "if not os.path.isdir(data_dir):\n",
    "    os.makedirs(data_dir)"
   ]
  },
  {
   "cell_type": "markdown",
   "id": "645c6adf",
   "metadata": {},
   "source": [
    "<a id='sec1'></a>"
   ]
  },
  {
   "cell_type": "markdown",
   "id": "771f38bf",
   "metadata": {},
   "source": [
    "# 1. Download and import datasets"
   ]
  },
  {
   "cell_type": "markdown",
   "id": "e3de97f4",
   "metadata": {},
   "source": [
    "## 1.1 Download the metadata\n",
    "\n",
    "Metadata of the Human Microbiome Project has been processed and investigated in Exercises of Week 2. Here we are downloading this pre-processed file into the `w7_data` directory:"
   ]
  },
  {
   "cell_type": "code",
   "execution_count": 3,
   "id": "34eb6ac6",
   "metadata": {},
   "outputs": [
    {
     "name": "stdout",
     "output_type": "stream",
     "text": [
      "--2021-11-01 15:24:48--  https://polybox.ethz.ch/index.php/s/RSLMfTo0nU46vMN/download\n",
      "Resolving polybox.ethz.ch (polybox.ethz.ch)... 129.132.71.243\n",
      "Connecting to polybox.ethz.ch (polybox.ethz.ch)|129.132.71.243|:443... connected.\n",
      "HTTP request sent, awaiting response... 200 OK\n",
      "Length: 350610 (342K) [application/octet-stream]\n",
      "Saving to: ‘w7_data/metadata_proc.tsv’\n",
      "\n",
      "w7_data/metadata_pr 100%[===================>] 342.39K  --.-KB/s    in 0.04s   \n",
      "\n",
      "2021-11-01 15:24:48 (7.55 MB/s) - ‘w7_data/metadata_proc.tsv’ saved [350610/350610]\n",
      "\n"
     ]
    }
   ],
   "source": [
    "! wget -O $data_dir/metadata_proc.tsv https://polybox.ethz.ch/index.php/s/RSLMfTo0nU46vMN/download"
   ]
  },
  {
   "cell_type": "markdown",
   "id": "a984e568",
   "metadata": {},
   "source": [
    "## 1.2 Download the feature table\n",
    "\n",
    "The feature table is already demultiplexed, denoised with Deblur and filtered for adequate size. This Q2 artifact of type `FeatureTable[Frequency]` can be downloaded with:\n"
   ]
  },
  {
   "cell_type": "code",
   "execution_count": 4,
   "id": "510d2faf",
   "metadata": {},
   "outputs": [
    {
     "name": "stdout",
     "output_type": "stream",
     "text": [
      "--2021-11-01 15:24:49--  https://polybox.ethz.ch/index.php/s/vAThxGGcKWmwoqI/download\n",
      "Resolving polybox.ethz.ch (polybox.ethz.ch)... 129.132.71.243\n",
      "Connecting to polybox.ethz.ch (polybox.ethz.ch)|129.132.71.243|:443... connected.\n",
      "HTTP request sent, awaiting response... 200 OK\n",
      "Length: 1610071 (1.5M) [application/octet-stream]\n",
      "Saving to: ‘w7_data/feature-table.qza’\n",
      "\n",
      "w7_data/feature-tab 100%[===================>]   1.54M  9.46MB/s    in 0.2s    \n",
      "\n",
      "2021-11-01 15:24:49 (9.46 MB/s) - ‘w7_data/feature-table.qza’ saved [1610071/1610071]\n",
      "\n"
     ]
    }
   ],
   "source": [
    "! wget -O $data_dir/feature-table.qza https://polybox.ethz.ch/index.php/s/vAThxGGcKWmwoqI/download"
   ]
  },
  {
   "cell_type": "markdown",
   "id": "c6a0320e",
   "metadata": {},
   "source": [
    "Create a summary of the read in feature table (takes ~2min to run) and inspect the created visualisation `w7_data/sum_table.qzv` inline with the Q2 notebook extension (as illustrated below) or in [QIIME2 View](https://view.qiime2.org/):"
   ]
  },
  {
   "cell_type": "code",
   "execution_count": 5,
   "id": "8782f6d9",
   "metadata": {},
   "outputs": [
    {
     "name": "stdout",
     "output_type": "stream",
     "text": [
      "\u001b[32mSaved Visualization to: w7_data/feature-table.qzv\u001b[0m\r\n"
     ]
    }
   ],
   "source": [
    "! qiime feature-table summarize \\\n",
    "  --i-table $data_dir/feature-table.qza \\\n",
    "  --m-sample-metadata-file $data_dir/metadata_proc.tsv \\\n",
    "  --o-visualization $data_dir/feature-table.qzv"
   ]
  },
  {
   "cell_type": "code",
   "execution_count": 6,
   "id": "5c4a1061",
   "metadata": {},
   "outputs": [
    {
     "data": {
      "text/html": [
       "<div><img onload=\"(function(div, url){\n",
       "if (typeof require !== 'undefined') {\n",
       "    var baseURL = require.toUrl('').split('/').slice(0, -2).join('/');\n",
       "} else {\n",
       "    var baseURL = JSON.parse(\n",
       "        document.getElementById('jupyter-config-data').innerHTML\n",
       "    ).baseUrl.slice(0, -1);\n",
       "}\n",
       "url = baseURL + url;\n",
       "fetch(url).then(function(res) {\n",
       "    if (res.status === 404) {\n",
       "        div.innerHTML = 'Install QIIME 2 Jupyter extension with:<br />' +\n",
       "                        '<code>jupyter serverextension enable --py qiime2' +\n",
       "                        ' --sys-prefix</code><br />then restart your server.' +\n",
       "                        '<br /><br />(Interactive output not available on ' +\n",
       "                        'static notebook viewer services like nbviewer.)';\n",
       "    } else if (res.status === 409) {\n",
       "        div.innerHTML = 'Visualization no longer in scope. Re-run this cell' +\n",
       "                        ' to see the visualization.';\n",
       "    } else if (res.ok) {\n",
       "        url = res.url;\n",
       "        div.innerHTML = '<iframe src=\\'' + url + '\\' style=\\'' +\n",
       "                        'width: 100%; height: 700px; border: 0;\\'>' +\n",
       "                        '</iframe><hr />Open in a: <a href=\\'' + url + '\\'' +\n",
       "                        ' target=\\'_blank\\'>new window</a>'\n",
       "    } else {\n",
       "        div.innerHTML = 'Something has gone wrong. Check notebook server for' +\n",
       "                        ' errors.';\n",
       "    }\n",
       "});\n",
       "})(this.parentElement, '/qiime2/redirect?location=/tmp/qiime2-archive-l93dlruc')\" src=\"data:image/gif;base64,R0lGODlhAQABAIAAAP///wAAACH5BAEAAAAALAAAAAABAAEAAAICRAEAOw==\" /></div>"
      ],
      "text/plain": [
       "<visualization: Visualization uuid: 8ac5e9da-0fd9-4832-9fb5-168a0174a0c2>"
      ]
     },
     "execution_count": 6,
     "metadata": {},
     "output_type": "execute_result"
    }
   ],
   "source": [
    "Visualization.load(f'{data_dir}/feature-table.qzv')"
   ]
  },
  {
   "cell_type": "markdown",
   "id": "7302c11f",
   "metadata": {},
   "source": [
    "## 1.3 Download a pre-created phylogenetic tree\n",
    "\n",
    "As some diversity metrics incorporate evolutionary relatedness between sequences, we are downloading a pre-created phylogenetic tree for our dataset. The tree was created with a fragment insertion tree building method (`sepp` action of [q2-fragment-insertion](https://library.qiime2.org/plugins/q2-fragment-insertion/16/) plugin)."
   ]
  },
  {
   "cell_type": "code",
   "execution_count": 7,
   "id": "2f908691",
   "metadata": {},
   "outputs": [
    {
     "name": "stdout",
     "output_type": "stream",
     "text": [
      "--2021-11-01 15:24:56--  https://polybox.ethz.ch/index.php/s/f7ltNX7sWQcDTcF/download\n",
      "Resolving polybox.ethz.ch (polybox.ethz.ch)... 129.132.71.243\n",
      "Connecting to polybox.ethz.ch (polybox.ethz.ch)|129.132.71.243|:443... connected.\n",
      "HTTP request sent, awaiting response... 200 OK\n",
      "Length: 3030509 (2.9M) [application/octet-stream]\n",
      "Saving to: ‘w7_data/insertion-tree.qza’\n",
      "\n",
      "w7_data/insertion-t 100%[===================>]   2.89M  11.2MB/s    in 0.3s    \n",
      "\n",
      "2021-11-01 15:24:57 (11.2 MB/s) - ‘w7_data/insertion-tree.qza’ saved [3030509/3030509]\n",
      "\n"
     ]
    }
   ],
   "source": [
    "! wget -O $data_dir/insertion-tree.qza \\\n",
    "    https://polybox.ethz.ch/index.php/s/f7ltNX7sWQcDTcF/download"
   ]
  },
  {
   "cell_type": "markdown",
   "id": "d7edf46a",
   "metadata": {},
   "source": [
    "<a id='sec2'></a>"
   ]
  },
  {
   "cell_type": "markdown",
   "id": "c8c923e6",
   "metadata": {
    "heading_collapsed": true
   },
   "source": [
    "# 2. Alpha rarefaction\n",
    "\n",
    "Having downloaded all the datasets we need in this exercise, we will now investigate the sampling depth of our sequences. As sampling depth is different between samples, we must normalize them prior to further analysing them. There is active research being performed on which type of normalisation method is best suited. (You will hear more about this in next week's lecture.)              \n",
    "In this exercise we will normalise by sampling a random subset of sequences without replacement for each sample at a fixed sequencing depth (\"threshold\"). This approach is called \"rarefying\" and occurs in two steps: first, __sequences__ below the rarefaction threshold are filtered out of the feature table, then, the remaining __sequences__ are subsampled w/o replacement to get to the specified sequencing depth.             \n",
    "To perform rarefaction, we first need to decide which rarefying threshold is best suited for our dataset. For this, we will analyse how sampling depth impacts within-sample diversity estimates (= **alpha diversity**) with the `alpha-rarefaction` action. This action generates interactive alpha rarefaction curves for sequencing depths between `min_depth` and `max_depth` and computes 10 (default) rarefied tables with corresponding alpha diversity metrics at each sampling depth step. \n",
    "\n",
    "* Before using this action, explore the parameters of the action through the Qiime2 command line interface: "
   ]
  },
  {
   "cell_type": "code",
   "execution_count": 8,
   "id": "442fe606",
   "metadata": {
    "hidden": true
   },
   "outputs": [
    {
     "name": "stdout",
     "output_type": "stream",
     "text": [
      "Usage: \u001b[34mqiime diversity alpha-rarefaction\u001b[0m [OPTIONS]\r\n",
      "\r\n",
      "  Generate interactive alpha rarefaction curves by computing rarefactions\r\n",
      "  between `min_depth` and `max_depth`. The number of intermediate depths to\r\n",
      "  compute is controlled by the `steps` parameter, with n `iterations` being\r\n",
      "  computed at each rarefaction depth. If sample metadata is provided,\r\n",
      "  samples may be grouped based on distinct values within a metadata column.\r\n",
      "\r\n",
      "\u001b[1mInputs\u001b[0m:\r\n",
      "  \u001b[34m\u001b[4m--i-table\u001b[0m ARTIFACT \u001b[32mFeatureTable[Frequency]\u001b[0m\r\n",
      "                          Feature table to compute rarefaction curves from.\r\n",
      "                                                                    \u001b[35m[required]\u001b[0m\r\n",
      "  \u001b[34m--i-phylogeny\u001b[0m ARTIFACT  Optional phylogeny for phylogenetic metrics.\r\n",
      "    \u001b[32mPhylogeny[Rooted]\u001b[0m                                               \u001b[35m[optional]\u001b[0m\r\n",
      "\u001b[1mParameters\u001b[0m:\r\n",
      "  \u001b[34m\u001b[4m--p-max-depth\u001b[0m INTEGER   The maximum rarefaction depth. Must be greater than\r\n",
      "    \u001b[32mRange(1, None)\u001b[0m        \u001b[4mmin-depth\u001b[0m.                                \u001b[35m[required]\u001b[0m\r\n",
      "  \u001b[34m--p-metrics\u001b[0m TEXT... \u001b[32mChoices('lladser_pe', 'gini_index',\u001b[0m\r\n",
      "    \u001b[32m'berger_parker_d', 'mcintosh_e', 'faith_pd', 'doubles', 'pielou_e',\u001b[0m\r\n",
      "    \u001b[32m'dominance', 'michaelis_menten_fit', 'ace', 'robbins', 'brillouin_d',\u001b[0m\r\n",
      "    \u001b[32m'simpson_e', 'mcintosh_d', 'simpson', 'shannon', 'goods_coverage',\u001b[0m\r\n",
      "    \u001b[32m'enspie', 'menhinick', 'singles', 'fisher_alpha', 'margalef', 'heip_e',\u001b[0m\r\n",
      "    \u001b[32m'chao1', 'observed_features')\u001b[0m\r\n",
      "                          The metrics to be measured. By default computes\r\n",
      "                          observed_features, shannon, and if phylogeny is\r\n",
      "                          provided, faith_pd.                       \u001b[35m[optional]\u001b[0m\r\n",
      "  \u001b[34m--m-metadata-file\u001b[0m METADATA...\r\n",
      "    (multiple arguments   The sample metadata.\r\n",
      "     will be merged)                                                \u001b[35m[optional]\u001b[0m\r\n",
      "  \u001b[34m--p-min-depth\u001b[0m INTEGER   The minimum rarefaction depth.\r\n",
      "    \u001b[32mRange(1, None)\u001b[0m                                                \u001b[35m[default: 1]\u001b[0m\r\n",
      "  \u001b[34m--p-steps\u001b[0m INTEGER       The number of rarefaction depths to include between\r\n",
      "    \u001b[32mRange(2, None)\u001b[0m        \u001b[4mmin-depth\u001b[0m and \u001b[4mmax-depth\u001b[0m.               \u001b[35m[default: 10]\u001b[0m\r\n",
      "  \u001b[34m--p-iterations\u001b[0m INTEGER  The number of rarefied feature tables to compute at\r\n",
      "    \u001b[32mRange(1, None)\u001b[0m        each step.                             \u001b[35m[default: 10]\u001b[0m\r\n",
      "\u001b[1mOutputs\u001b[0m:\r\n",
      "  \u001b[34m\u001b[4m--o-visualization\u001b[0m VISUALIZATION\r\n",
      "                                                                    \u001b[35m[required]\u001b[0m\r\n",
      "\u001b[1mMiscellaneous\u001b[0m:\r\n",
      "  \u001b[34m--output-dir\u001b[0m PATH       Output unspecified results to a directory\r\n",
      "  \u001b[34m--verbose\u001b[0m / \u001b[34m--quiet\u001b[0m     Display verbose output to stdout and/or stderr\r\n",
      "                          during execution of this action. Or silence output\r\n",
      "                          if execution is successful (silence is golden).\r\n",
      "  \u001b[34m--examples\u001b[0m              Show usage examples and exit.\r\n",
      "  \u001b[34m--citations\u001b[0m             Show citations and exit.\r\n",
      "  \u001b[34m--help\u001b[0m                  Show this message and exit.\r\n"
     ]
    }
   ],
   "source": [
    "! qiime diversity alpha-rarefaction --help"
   ]
  },
  {
   "cell_type": "markdown",
   "id": "4f66e54a",
   "metadata": {
    "hidden": true
   },
   "source": [
    "Now answer a few questions:\n",
    "\n",
    "**a)** What does the parameter `--p-iterations` control in the action?"
   ]
  },
  {
   "cell_type": "markdown",
   "id": "a5ad943b",
   "metadata": {
    "hidden": true
   },
   "source": [
    "* Use the action as described below to calculate the interactive alpha-rarefaction curves:"
   ]
  },
  {
   "cell_type": "code",
   "execution_count": 9,
   "id": "219fe2aa",
   "metadata": {
    "hidden": true
   },
   "outputs": [
    {
     "name": "stdout",
     "output_type": "stream",
     "text": [
      "\u001b[32mSaved Visualization to: w7_data/alpha-rarefaction.qzv\u001b[0m\r\n"
     ]
    }
   ],
   "source": [
    "! qiime diversity alpha-rarefaction \\\n",
    "    --i-table $data_dir/feature-table.qza \\\n",
    "    --i-phylogeny $data_dir/insertion-tree.qza \\\n",
    "    --p-max-depth 10000 \\\n",
    "    --m-metadata-file $data_dir/metadata_proc.tsv \\\n",
    "    --o-visualization $data_dir/alpha-rarefaction.qzv"
   ]
  },
  {
   "cell_type": "code",
   "execution_count": 10,
   "id": "16b948af",
   "metadata": {},
   "outputs": [
    {
     "data": {
      "text/html": [
       "<div><img onload=\"(function(div, url){\n",
       "if (typeof require !== 'undefined') {\n",
       "    var baseURL = require.toUrl('').split('/').slice(0, -2).join('/');\n",
       "} else {\n",
       "    var baseURL = JSON.parse(\n",
       "        document.getElementById('jupyter-config-data').innerHTML\n",
       "    ).baseUrl.slice(0, -1);\n",
       "}\n",
       "url = baseURL + url;\n",
       "fetch(url).then(function(res) {\n",
       "    if (res.status === 404) {\n",
       "        div.innerHTML = 'Install QIIME 2 Jupyter extension with:<br />' +\n",
       "                        '<code>jupyter serverextension enable --py qiime2' +\n",
       "                        ' --sys-prefix</code><br />then restart your server.' +\n",
       "                        '<br /><br />(Interactive output not available on ' +\n",
       "                        'static notebook viewer services like nbviewer.)';\n",
       "    } else if (res.status === 409) {\n",
       "        div.innerHTML = 'Visualization no longer in scope. Re-run this cell' +\n",
       "                        ' to see the visualization.';\n",
       "    } else if (res.ok) {\n",
       "        url = res.url;\n",
       "        div.innerHTML = '<iframe src=\\'' + url + '\\' style=\\'' +\n",
       "                        'width: 100%; height: 700px; border: 0;\\'>' +\n",
       "                        '</iframe><hr />Open in a: <a href=\\'' + url + '\\'' +\n",
       "                        ' target=\\'_blank\\'>new window</a>'\n",
       "    } else {\n",
       "        div.innerHTML = 'Something has gone wrong. Check notebook server for' +\n",
       "                        ' errors.';\n",
       "    }\n",
       "});\n",
       "})(this.parentElement, '/qiime2/redirect?location=/tmp/qiime2-archive-11ur60w4')\" src=\"data:image/gif;base64,R0lGODlhAQABAIAAAP///wAAACH5BAEAAAAALAAAAAABAAEAAAICRAEAOw==\" /></div>"
      ],
      "text/plain": [
       "<visualization: Visualization uuid: 7e50f9a8-18e1-4640-b6b2-f2502861011b>"
      ]
     },
     "execution_count": 10,
     "metadata": {},
     "output_type": "execute_result"
    }
   ],
   "source": [
    "Visualization.load(f'{data_dir}/alpha-rarefaction.qzv')"
   ]
  },
  {
   "cell_type": "markdown",
   "id": "f93d9b3d",
   "metadata": {
    "hidden": true
   },
   "source": [
    "* Investigate the resulting visualization. You will find two plots. The **top plot** displays the selected alpha diversity metrics (e.g. shannon) over different sequencing depths. When the lines in this plot \"level out\" (slope approximates zero), it indicates that collecting more sequences would not change the estimated samples' diversity metric. \n",
    "           \n",
    "           \n",
    "**b)** Set the \"Sample Metadata Column\" to \"env\" and the \"Metric\" equal \"shannon\". At which sampling depth does our shannon diversity metric start to \"level out\"?\n",
    "           \n",
    "      \n",
    "* Investigate the **bottom plot** in the visualisation. It displays the count of samples that remain per metadata group when the feature table is rarefied to the respective sampling depth (x-axis). It essentially gives you an estimate on how reliable the above represented diversity metrics are (the fewer samples, the more uncertain it is). To select the depth at which to rarefy your samples, you should aim to maximize the rarefying threshold while minimizing loss of samples due to insufficient coverage. \n",
    "          \n",
    "          \n",
    "**c)** Which sequencing depth would you choose for rarefying these samples?\n",
    "\n",
    "\n",
    "**d)** With this sequencing depth, how many samples do we end up with? And which \"env\" group ends up losing most samples? (Hint: Investigate above created \"Interactive Sample Detail\" tab in feature table summary `w7_data/feature-table.qzv`.)        "
   ]
  },
  {
   "cell_type": "markdown",
   "id": "c8668ec7",
   "metadata": {
    "hidden": true
   },
   "source": [
    "<a id='sec3'></a>"
   ]
  },
  {
   "cell_type": "markdown",
   "id": "7bb4050d",
   "metadata": {},
   "source": [
    "# 3. Diversity analysis\n",
    "\n",
    "Having decided on a sequencing depth for rarefaction, we can now proceed and investigate the within-sample diversity (= **alpha diversity**) as well as between-sample diversity (= **beta diversity**). To do this we will make use of the `q2-diversity` plugin's `core-metrics-phylogenetic` method that rarefies the feature table and calculates a collection of diversity metrics for it. "
   ]
  },
  {
   "cell_type": "markdown",
   "id": "fba1640f",
   "metadata": {},
   "source": [
    "* List the outputed diversity metrics of `core-metrics-phylogenetic` through the Q2 command line interface. If a metric is unfamiliar to you, you can consult this [forum post](https://forum.qiime2.org/t/alpha-and-beta-diversity-explanations-and-commands/2282). "
   ]
  },
  {
   "cell_type": "code",
   "execution_count": 11,
   "id": "52d28047",
   "metadata": {},
   "outputs": [
    {
     "name": "stdout",
     "output_type": "stream",
     "text": [
      "Usage: \u001b[34mqiime diversity core-metrics-phylogenetic\u001b[0m [OPTIONS]\r\n",
      "\r\n",
      "  Applies a collection of diversity metrics (both phylogenetic and non-\r\n",
      "  phylogenetic) to a feature table.\r\n",
      "\r\n",
      "\u001b[1mInputs\u001b[0m:\r\n",
      "  \u001b[34m\u001b[4m--i-table\u001b[0m ARTIFACT \u001b[32mFeatureTable[Frequency]\u001b[0m\r\n",
      "                          The feature table containing the samples over which\r\n",
      "                          diversity metrics should be computed.     \u001b[35m[required]\u001b[0m\r\n",
      "  \u001b[34m\u001b[4m--i-phylogeny\u001b[0m ARTIFACT  Phylogenetic tree containing tip identifiers that\r\n",
      "    \u001b[32mPhylogeny[Rooted]\u001b[0m     correspond to the feature identifiers in the table.\r\n",
      "                          This tree can contain tip ids that are not present\r\n",
      "                          in the table, but all feature ids in the table must\r\n",
      "                          be present in this tree.                  \u001b[35m[required]\u001b[0m\r\n",
      "\u001b[1mParameters\u001b[0m:\r\n",
      "  \u001b[34m\u001b[4m--p-sampling-depth\u001b[0m INTEGER\r\n",
      "    \u001b[32mRange(1, None)\u001b[0m        The total frequency that each sample should be\r\n",
      "                          rarefied to prior to computing diversity metrics.\r\n",
      "                                                                    \u001b[35m[required]\u001b[0m\r\n",
      "  \u001b[34m\u001b[4m--m-metadata-file\u001b[0m METADATA...\r\n",
      "    (multiple arguments   The sample metadata to use in the emperor plots.\r\n",
      "     will be merged)                                                \u001b[35m[required]\u001b[0m\r\n",
      "  \u001b[34m--p-n-jobs-or-threads\u001b[0m VALUE \u001b[32mInt % Range(1, None) | Str % Choices('auto')\u001b[0m\r\n",
      "                          [beta/beta-phylogenetic methods only] - The number\r\n",
      "                          of concurrent jobs or CPU threads to use in\r\n",
      "                          performing this calculation. Individual methods will\r\n",
      "                          create jobs/threads as implemented in\r\n",
      "                          q2-diversity-lib dependencies. May not exceed the\r\n",
      "                          number of available physical cores. If\r\n",
      "                          \u001b[4mn-jobs-or-threads\u001b[0m = 'auto', one thread/job will be\r\n",
      "                          created for each identified CPU core on the host.\r\n",
      "                                                                  \u001b[35m[default: 1]\u001b[0m\r\n",
      "\u001b[1mOutputs\u001b[0m:\r\n",
      "  \u001b[34m\u001b[4m--o-rarefied-table\u001b[0m ARTIFACT \u001b[32mFeatureTable[Frequency]\u001b[0m\r\n",
      "                          The resulting rarefied feature table.     \u001b[35m[required]\u001b[0m\r\n",
      "  \u001b[34m\u001b[4m--o-faith-pd-vector\u001b[0m ARTIFACT \u001b[32mSampleData[AlphaDiversity]\u001b[0m\r\n",
      "                          Vector of Faith PD values by sample.      \u001b[35m[required]\u001b[0m\r\n",
      "  \u001b[34m\u001b[4m--o-observed-features-vector\u001b[0m ARTIFACT \u001b[32mSampleData[AlphaDiversity]\u001b[0m\r\n",
      "                          Vector of Observed Features values by sample.\r\n",
      "                                                                    \u001b[35m[required]\u001b[0m\r\n",
      "  \u001b[34m\u001b[4m--o-shannon-vector\u001b[0m ARTIFACT \u001b[32mSampleData[AlphaDiversity]\u001b[0m\r\n",
      "                          Vector of Shannon diversity values by sample.\r\n",
      "                                                                    \u001b[35m[required]\u001b[0m\r\n",
      "  \u001b[34m\u001b[4m--o-evenness-vector\u001b[0m ARTIFACT \u001b[32mSampleData[AlphaDiversity]\u001b[0m\r\n",
      "                          Vector of Pielou's evenness values by sample.\r\n",
      "                                                                    \u001b[35m[required]\u001b[0m\r\n",
      "  \u001b[34m\u001b[4m--o-unweighted-unifrac-distance-matrix\u001b[0m ARTIFACT\r\n",
      "    \u001b[32mDistanceMatrix\u001b[0m        Matrix of unweighted UniFrac distances between\r\n",
      "                          pairs of samples.                         \u001b[35m[required]\u001b[0m\r\n",
      "  \u001b[34m\u001b[4m--o-weighted-unifrac-distance-matrix\u001b[0m ARTIFACT\r\n",
      "    \u001b[32mDistanceMatrix\u001b[0m        Matrix of weighted UniFrac distances between pairs\r\n",
      "                          of samples.                               \u001b[35m[required]\u001b[0m\r\n",
      "  \u001b[34m\u001b[4m--o-jaccard-distance-matrix\u001b[0m ARTIFACT\r\n",
      "    \u001b[32mDistanceMatrix\u001b[0m        Matrix of Jaccard distances between pairs of\r\n",
      "                          samples.                                  \u001b[35m[required]\u001b[0m\r\n",
      "  \u001b[34m\u001b[4m--o-bray-curtis-distance-matrix\u001b[0m ARTIFACT\r\n",
      "    \u001b[32mDistanceMatrix\u001b[0m        Matrix of Bray-Curtis distances between pairs of\r\n",
      "                          samples.                                  \u001b[35m[required]\u001b[0m\r\n",
      "  \u001b[34m\u001b[4m--o-unweighted-unifrac-pcoa-results\u001b[0m ARTIFACT\r\n",
      "    \u001b[32mPCoAResults\u001b[0m           PCoA matrix computed from unweighted UniFrac\r\n",
      "                          distances between samples.                \u001b[35m[required]\u001b[0m\r\n",
      "  \u001b[34m\u001b[4m--o-weighted-unifrac-pcoa-results\u001b[0m ARTIFACT\r\n",
      "    \u001b[32mPCoAResults\u001b[0m           PCoA matrix computed from weighted UniFrac\r\n",
      "                          distances between samples.                \u001b[35m[required]\u001b[0m\r\n",
      "  \u001b[34m\u001b[4m--o-jaccard-pcoa-results\u001b[0m ARTIFACT\r\n",
      "    \u001b[32mPCoAResults\u001b[0m           PCoA matrix computed from Jaccard distances between\r\n",
      "                          samples.                                  \u001b[35m[required]\u001b[0m\r\n",
      "  \u001b[34m\u001b[4m--o-bray-curtis-pcoa-results\u001b[0m ARTIFACT\r\n",
      "    \u001b[32mPCoAResults\u001b[0m           PCoA matrix computed from Bray-Curtis distances\r\n",
      "                          between samples.                          \u001b[35m[required]\u001b[0m\r\n",
      "  \u001b[34m\u001b[4m--o-unweighted-unifrac-emperor\u001b[0m VISUALIZATION\r\n",
      "                          Emperor plot of the PCoA matrix computed from\r\n",
      "                          unweighted UniFrac.                       \u001b[35m[required]\u001b[0m\r\n",
      "  \u001b[34m\u001b[4m--o-weighted-unifrac-emperor\u001b[0m VISUALIZATION\r\n",
      "                          Emperor plot of the PCoA matrix computed from\r\n",
      "                          weighted UniFrac.                         \u001b[35m[required]\u001b[0m\r\n",
      "  \u001b[34m\u001b[4m--o-jaccard-emperor\u001b[0m VISUALIZATION\r\n",
      "                          Emperor plot of the PCoA matrix computed from\r\n",
      "                          Jaccard.                                  \u001b[35m[required]\u001b[0m\r\n",
      "  \u001b[34m\u001b[4m--o-bray-curtis-emperor\u001b[0m VISUALIZATION\r\n",
      "                          Emperor plot of the PCoA matrix computed from\r\n",
      "                          Bray-Curtis.                              \u001b[35m[required]\u001b[0m\r\n",
      "\u001b[1mMiscellaneous\u001b[0m:\r\n",
      "  \u001b[34m--output-dir\u001b[0m PATH       Output unspecified results to a directory\r\n",
      "  \u001b[34m--verbose\u001b[0m / \u001b[34m--quiet\u001b[0m     Display verbose output to stdout and/or stderr\r\n",
      "                          during execution of this action. Or silence output\r\n",
      "                          if execution is successful (silence is golden).\r\n",
      "  \u001b[34m--examples\u001b[0m              Show usage examples and exit.\r\n",
      "  \u001b[34m--citations\u001b[0m             Show citations and exit.\r\n",
      "  \u001b[34m--help\u001b[0m                  Show this message and exit.\r\n"
     ]
    }
   ],
   "source": [
    "! qiime diversity core-metrics-phylogenetic --help"
   ]
  },
  {
   "cell_type": "markdown",
   "id": "1569e9bd",
   "metadata": {},
   "source": [
    "* Let's apply this method to our feature table with a rarefaction depth of 1500 sequences per sample:"
   ]
  },
  {
   "cell_type": "code",
   "execution_count": 12,
   "id": "bfac52ac",
   "metadata": {},
   "outputs": [
    {
     "name": "stdout",
     "output_type": "stream",
     "text": [
      "\u001b[32mSaved FeatureTable[Frequency] to: w7_data/core-metrics-results/rarefied_table.qza\u001b[0m\n",
      "\u001b[32mSaved SampleData[AlphaDiversity] to: w7_data/core-metrics-results/faith_pd_vector.qza\u001b[0m\n",
      "\u001b[32mSaved SampleData[AlphaDiversity] to: w7_data/core-metrics-results/observed_features_vector.qza\u001b[0m\n",
      "\u001b[32mSaved SampleData[AlphaDiversity] to: w7_data/core-metrics-results/shannon_vector.qza\u001b[0m\n",
      "\u001b[32mSaved SampleData[AlphaDiversity] to: w7_data/core-metrics-results/evenness_vector.qza\u001b[0m\n",
      "\u001b[32mSaved DistanceMatrix to: w7_data/core-metrics-results/unweighted_unifrac_distance_matrix.qza\u001b[0m\n",
      "\u001b[32mSaved DistanceMatrix to: w7_data/core-metrics-results/weighted_unifrac_distance_matrix.qza\u001b[0m\n",
      "\u001b[32mSaved DistanceMatrix to: w7_data/core-metrics-results/jaccard_distance_matrix.qza\u001b[0m\n",
      "\u001b[32mSaved DistanceMatrix to: w7_data/core-metrics-results/bray_curtis_distance_matrix.qza\u001b[0m\n",
      "\u001b[32mSaved PCoAResults to: w7_data/core-metrics-results/unweighted_unifrac_pcoa_results.qza\u001b[0m\n",
      "\u001b[32mSaved PCoAResults to: w7_data/core-metrics-results/weighted_unifrac_pcoa_results.qza\u001b[0m\n",
      "\u001b[32mSaved PCoAResults to: w7_data/core-metrics-results/jaccard_pcoa_results.qza\u001b[0m\n",
      "\u001b[32mSaved PCoAResults to: w7_data/core-metrics-results/bray_curtis_pcoa_results.qza\u001b[0m\n",
      "\u001b[32mSaved Visualization to: w7_data/core-metrics-results/unweighted_unifrac_emperor.qzv\u001b[0m\n",
      "\u001b[32mSaved Visualization to: w7_data/core-metrics-results/weighted_unifrac_emperor.qzv\u001b[0m\n",
      "\u001b[32mSaved Visualization to: w7_data/core-metrics-results/jaccard_emperor.qzv\u001b[0m\n",
      "\u001b[32mSaved Visualization to: w7_data/core-metrics-results/bray_curtis_emperor.qzv\u001b[0m\n"
     ]
    }
   ],
   "source": [
    "! qiime diversity core-metrics-phylogenetic \\\n",
    "  --i-table $data_dir/feature-table.qza \\\n",
    "  --i-phylogeny $data_dir/insertion-tree.qza \\\n",
    "  --m-metadata-file $data_dir/metadata_proc.tsv \\\n",
    "  --p-sampling-depth 1500 \\\n",
    "  --output-dir $data_dir/core-metrics-results"
   ]
  },
  {
   "cell_type": "markdown",
   "id": "ca62c03d",
   "metadata": {},
   "source": [
    "<a id='sec3.1'></a>"
   ]
  },
  {
   "cell_type": "markdown",
   "id": "a799f3a3",
   "metadata": {},
   "source": [
    "## 3.1 Alpha diversity\n",
    "\n",
    "The alpha diversity metric measures the within-sample diversity of a sample or a group of samples. As a continuous value alpha diversities can be tested for significant differences with non-parametric statistical tests:"
   ]
  },
  {
   "cell_type": "markdown",
   "id": "dfb2b2ac",
   "metadata": {},
   "source": [
    "* Test the associations between categorical metadata columns and the Faith Phylogenetic Diversity (a measure of community richness) metric using the `qiime diversity alpha-group-significance` method  (implementation of a one-way ANOVA method, namely [Kruskal-Wallis test](https://en.wikipedia.org/wiki/Kruskal%E2%80%93Wallis_one-way_analysis_of_variance)):"
   ]
  },
  {
   "cell_type": "code",
   "execution_count": 13,
   "id": "c5ef26cb",
   "metadata": {},
   "outputs": [
    {
     "name": "stdout",
     "output_type": "stream",
     "text": [
      "\u001b[32mSaved Visualization to: w7_data/core-metrics-results/faith-pd-group-significance.qzv\u001b[0m\r\n"
     ]
    }
   ],
   "source": [
    "! qiime diversity alpha-group-significance \\\n",
    "  --i-alpha-diversity $data_dir/core-metrics-results/faith_pd_vector.qza \\\n",
    "  --m-metadata-file $data_dir/metadata_proc.tsv \\\n",
    "  --o-visualization $data_dir/core-metrics-results/faith-pd-group-significance.qzv"
   ]
  },
  {
   "cell_type": "code",
   "execution_count": 14,
   "id": "11160d92",
   "metadata": {},
   "outputs": [
    {
     "data": {
      "text/html": [
       "<div><img onload=\"(function(div, url){\n",
       "if (typeof require !== 'undefined') {\n",
       "    var baseURL = require.toUrl('').split('/').slice(0, -2).join('/');\n",
       "} else {\n",
       "    var baseURL = JSON.parse(\n",
       "        document.getElementById('jupyter-config-data').innerHTML\n",
       "    ).baseUrl.slice(0, -1);\n",
       "}\n",
       "url = baseURL + url;\n",
       "fetch(url).then(function(res) {\n",
       "    if (res.status === 404) {\n",
       "        div.innerHTML = 'Install QIIME 2 Jupyter extension with:<br />' +\n",
       "                        '<code>jupyter serverextension enable --py qiime2' +\n",
       "                        ' --sys-prefix</code><br />then restart your server.' +\n",
       "                        '<br /><br />(Interactive output not available on ' +\n",
       "                        'static notebook viewer services like nbviewer.)';\n",
       "    } else if (res.status === 409) {\n",
       "        div.innerHTML = 'Visualization no longer in scope. Re-run this cell' +\n",
       "                        ' to see the visualization.';\n",
       "    } else if (res.ok) {\n",
       "        url = res.url;\n",
       "        div.innerHTML = '<iframe src=\\'' + url + '\\' style=\\'' +\n",
       "                        'width: 100%; height: 700px; border: 0;\\'>' +\n",
       "                        '</iframe><hr />Open in a: <a href=\\'' + url + '\\'' +\n",
       "                        ' target=\\'_blank\\'>new window</a>'\n",
       "    } else {\n",
       "        div.innerHTML = 'Something has gone wrong. Check notebook server for' +\n",
       "                        ' errors.';\n",
       "    }\n",
       "});\n",
       "})(this.parentElement, '/qiime2/redirect?location=/tmp/qiime2-archive-qwct6wab')\" src=\"data:image/gif;base64,R0lGODlhAQABAIAAAP///wAAACH5BAEAAAAALAAAAAABAAEAAAICRAEAOw==\" /></div>"
      ],
      "text/plain": [
       "<visualization: Visualization uuid: 924976b7-fba4-4bc7-942d-46a9f16b3457>"
      ]
     },
     "execution_count": 14,
     "metadata": {},
     "output_type": "execute_result"
    }
   ],
   "source": [
    "Visualization.load(f'{data_dir}/core-metrics-results/faith-pd-group-significance.qzv')"
   ]
  },
  {
   "cell_type": "markdown",
   "id": "c0c64e19",
   "metadata": {},
   "source": [
    "**a)** Inspect the created visualisation `w7_data/core-metrics-results/faith-pd-group-significance.qzv`. Which categorical sample metadata columns are strongly associated with the differences in microbial community richness? "
   ]
  },
  {
   "cell_type": "markdown",
   "id": "23332536",
   "metadata": {},
   "source": [
    "* Next, we will test whether numeric sample metadata columns are correlated with microbial community richness by using the `qiime diversity alpha-correlation` method (implementation of [Spearman correlation](https://en.wikipedia.org/wiki/Spearman%27s_rank_correlation_coefficient)):"
   ]
  },
  {
   "cell_type": "code",
   "execution_count": 15,
   "id": "8697441f",
   "metadata": {},
   "outputs": [
    {
     "name": "stdout",
     "output_type": "stream",
     "text": [
      "\u001b[32mSaved Visualization to: w7_data/core-metrics-results/faith-pd-group-significance-numeric.qzv\u001b[0m\r\n"
     ]
    }
   ],
   "source": [
    "! qiime diversity alpha-correlation \\\n",
    "  --i-alpha-diversity $data_dir/core-metrics-results/faith_pd_vector.qza \\\n",
    "  --m-metadata-file $data_dir/metadata_proc.tsv \\\n",
    "  --o-visualization $data_dir/core-metrics-results/faith-pd-group-significance-numeric.qzv"
   ]
  },
  {
   "cell_type": "code",
   "execution_count": 16,
   "id": "ff00b513",
   "metadata": {},
   "outputs": [
    {
     "data": {
      "text/html": [
       "<div><img onload=\"(function(div, url){\n",
       "if (typeof require !== 'undefined') {\n",
       "    var baseURL = require.toUrl('').split('/').slice(0, -2).join('/');\n",
       "} else {\n",
       "    var baseURL = JSON.parse(\n",
       "        document.getElementById('jupyter-config-data').innerHTML\n",
       "    ).baseUrl.slice(0, -1);\n",
       "}\n",
       "url = baseURL + url;\n",
       "fetch(url).then(function(res) {\n",
       "    if (res.status === 404) {\n",
       "        div.innerHTML = 'Install QIIME 2 Jupyter extension with:<br />' +\n",
       "                        '<code>jupyter serverextension enable --py qiime2' +\n",
       "                        ' --sys-prefix</code><br />then restart your server.' +\n",
       "                        '<br /><br />(Interactive output not available on ' +\n",
       "                        'static notebook viewer services like nbviewer.)';\n",
       "    } else if (res.status === 409) {\n",
       "        div.innerHTML = 'Visualization no longer in scope. Re-run this cell' +\n",
       "                        ' to see the visualization.';\n",
       "    } else if (res.ok) {\n",
       "        url = res.url;\n",
       "        div.innerHTML = '<iframe src=\\'' + url + '\\' style=\\'' +\n",
       "                        'width: 100%; height: 700px; border: 0;\\'>' +\n",
       "                        '</iframe><hr />Open in a: <a href=\\'' + url + '\\'' +\n",
       "                        ' target=\\'_blank\\'>new window</a>'\n",
       "    } else {\n",
       "        div.innerHTML = 'Something has gone wrong. Check notebook server for' +\n",
       "                        ' errors.';\n",
       "    }\n",
       "});\n",
       "})(this.parentElement, '/qiime2/redirect?location=/tmp/qiime2-archive-v6w7og1i')\" src=\"data:image/gif;base64,R0lGODlhAQABAIAAAP///wAAACH5BAEAAAAALAAAAAABAAEAAAICRAEAOw==\" /></div>"
      ],
      "text/plain": [
       "<visualization: Visualization uuid: db9a7604-27e5-4d06-a593-50d883c08cb1>"
      ]
     },
     "execution_count": 16,
     "metadata": {},
     "output_type": "execute_result"
    }
   ],
   "source": [
    "Visualization.load(f'{data_dir}/core-metrics-results/faith-pd-group-significance-numeric.qzv')"
   ]
  },
  {
   "cell_type": "markdown",
   "id": "8b32c5c8",
   "metadata": {},
   "source": [
    "**b)** Inspect the created visualisation. Why do some of the test statistics show a p-value of NaN? (Hint: Remember the output of the `df_meta.describe()` method in the exercises of Week2?)\n",
    "                  \n",
    "**c)** Does the significant correlation between `host_subject_id` and microbial community richness make sense?\n",
    "                   "
   ]
  },
  {
   "cell_type": "markdown",
   "id": "6fb784c6",
   "metadata": {},
   "source": [
    "<a id='sec3.2'></a>"
   ]
  },
  {
   "cell_type": "markdown",
   "id": "ab2d7889",
   "metadata": {},
   "source": [
    "## 3.2 Beta diversity\n",
    "\n",
    "The beta diversity metric measures the between-sample diversity of a sample or a group of samples.        \n",
    "To inspect groupings of beta diversity metrics across metadata categories, we will inspect the principal coordinates (PCoA) plots created with the `qiime diversity core-metrics-phylogenetic` method before. \n",
    "                \n",
    "**a)** Inspect the `unweighted_unifrac_emperor.qzv` visualisation in Q2 View. According to which category do the beta diversity metrics of the samples cluster?\n",
    "            \n"
   ]
  },
  {
   "cell_type": "code",
   "execution_count": 17,
   "id": "43252f3a",
   "metadata": {},
   "outputs": [
    {
     "data": {
      "text/html": [
       "<div><img onload=\"(function(div, url){\n",
       "if (typeof require !== 'undefined') {\n",
       "    var baseURL = require.toUrl('').split('/').slice(0, -2).join('/');\n",
       "} else {\n",
       "    var baseURL = JSON.parse(\n",
       "        document.getElementById('jupyter-config-data').innerHTML\n",
       "    ).baseUrl.slice(0, -1);\n",
       "}\n",
       "url = baseURL + url;\n",
       "fetch(url).then(function(res) {\n",
       "    if (res.status === 404) {\n",
       "        div.innerHTML = 'Install QIIME 2 Jupyter extension with:<br />' +\n",
       "                        '<code>jupyter serverextension enable --py qiime2' +\n",
       "                        ' --sys-prefix</code><br />then restart your server.' +\n",
       "                        '<br /><br />(Interactive output not available on ' +\n",
       "                        'static notebook viewer services like nbviewer.)';\n",
       "    } else if (res.status === 409) {\n",
       "        div.innerHTML = 'Visualization no longer in scope. Re-run this cell' +\n",
       "                        ' to see the visualization.';\n",
       "    } else if (res.ok) {\n",
       "        url = res.url;\n",
       "        div.innerHTML = '<iframe src=\\'' + url + '\\' style=\\'' +\n",
       "                        'width: 100%; height: 700px; border: 0;\\'>' +\n",
       "                        '</iframe><hr />Open in a: <a href=\\'' + url + '\\'' +\n",
       "                        ' target=\\'_blank\\'>new window</a>'\n",
       "    } else {\n",
       "        div.innerHTML = 'Something has gone wrong. Check notebook server for' +\n",
       "                        ' errors.';\n",
       "    }\n",
       "});\n",
       "})(this.parentElement, '/qiime2/redirect?location=/tmp/qiime2-archive-rcgw4n0w')\" src=\"data:image/gif;base64,R0lGODlhAQABAIAAAP///wAAACH5BAEAAAAALAAAAAABAAEAAAICRAEAOw==\" /></div>"
      ],
      "text/plain": [
       "<visualization: Visualization uuid: a7316015-cf0a-4b3c-ab56-9d00a08b8ece>"
      ]
     },
     "execution_count": 17,
     "metadata": {},
     "output_type": "execute_result"
    }
   ],
   "source": [
    "Visualization.load(f'{data_dir}/core-metrics-results/unweighted_unifrac_emperor.qzv')"
   ]
  },
  {
   "cell_type": "markdown",
   "id": "3788956f",
   "metadata": {},
   "source": [
    "Beta diversity metric groupings according to categorical variables can be tested for significant differences with a PERMANOVA. This is a non-parametrics statistical test that checks the null hypothesis that the distances between samples of one group are equivalent to distances to samples of another group. If this null hypothesis is rejected, we can infer that the distances between samples of one group differ significantly from the distances to samples in another group. We can perform a PERMANOVA test checking whether the observed categories are significantly grouped in Q2 with the `qiime diversity beta-group-significance` method: "
   ]
  },
  {
   "cell_type": "code",
   "execution_count": 18,
   "id": "13b4adaf",
   "metadata": {},
   "outputs": [
    {
     "name": "stdout",
     "output_type": "stream",
     "text": [
      "\u001b[32mSaved Visualization to: w7_data/core-metrics-results/uw_unifrac-env-significance.qzv\u001b[0m\r\n"
     ]
    }
   ],
   "source": [
    "! qiime diversity beta-group-significance \\\n",
    "    --i-distance-matrix $data_dir/core-metrics-results/unweighted_unifrac_distance_matrix.qza \\\n",
    "    --m-metadata-file $data_dir/metadata_proc.tsv \\\n",
    "    --m-metadata-column env \\\n",
    "    --p-pairwise \\\n",
    "    --o-visualization $data_dir/core-metrics-results/uw_unifrac-env-significance.qzv"
   ]
  },
  {
   "cell_type": "code",
   "execution_count": 19,
   "id": "c656240d",
   "metadata": {},
   "outputs": [
    {
     "data": {
      "text/html": [
       "<div><img onload=\"(function(div, url){\n",
       "if (typeof require !== 'undefined') {\n",
       "    var baseURL = require.toUrl('').split('/').slice(0, -2).join('/');\n",
       "} else {\n",
       "    var baseURL = JSON.parse(\n",
       "        document.getElementById('jupyter-config-data').innerHTML\n",
       "    ).baseUrl.slice(0, -1);\n",
       "}\n",
       "url = baseURL + url;\n",
       "fetch(url).then(function(res) {\n",
       "    if (res.status === 404) {\n",
       "        div.innerHTML = 'Install QIIME 2 Jupyter extension with:<br />' +\n",
       "                        '<code>jupyter serverextension enable --py qiime2' +\n",
       "                        ' --sys-prefix</code><br />then restart your server.' +\n",
       "                        '<br /><br />(Interactive output not available on ' +\n",
       "                        'static notebook viewer services like nbviewer.)';\n",
       "    } else if (res.status === 409) {\n",
       "        div.innerHTML = 'Visualization no longer in scope. Re-run this cell' +\n",
       "                        ' to see the visualization.';\n",
       "    } else if (res.ok) {\n",
       "        url = res.url;\n",
       "        div.innerHTML = '<iframe src=\\'' + url + '\\' style=\\'' +\n",
       "                        'width: 100%; height: 700px; border: 0;\\'>' +\n",
       "                        '</iframe><hr />Open in a: <a href=\\'' + url + '\\'' +\n",
       "                        ' target=\\'_blank\\'>new window</a>'\n",
       "    } else {\n",
       "        div.innerHTML = 'Something has gone wrong. Check notebook server for' +\n",
       "                        ' errors.';\n",
       "    }\n",
       "});\n",
       "})(this.parentElement, '/qiime2/redirect?location=/tmp/qiime2-archive-xi9233b9')\" src=\"data:image/gif;base64,R0lGODlhAQABAIAAAP///wAAACH5BAEAAAAALAAAAAABAAEAAAICRAEAOw==\" /></div>"
      ],
      "text/plain": [
       "<visualization: Visualization uuid: a7a95f2e-1cf8-435c-a75d-943541dc71de>"
      ]
     },
     "execution_count": 19,
     "metadata": {},
     "output_type": "execute_result"
    }
   ],
   "source": [
    "Visualization.load(f'{data_dir}/core-metrics-results/uw_unifrac-env-significance.qzv')"
   ]
  },
  {
   "cell_type": "markdown",
   "id": "e26d7a9b",
   "metadata": {},
   "source": [
    "**b)** Inspect the created visualisation. What does the performed PERMANOVA test tell us about the differences in beta diversity of \"env\" groupings? What specific pairs of environments are significantly different from each other?           \n",
    "\n",
    "Inspect another beta diversity metric. What do you observe in the PCoA visualisation? What can you say about the significance of the observed differences?"
   ]
  },
  {
   "cell_type": "markdown",
   "id": "1fe2a3cb",
   "metadata": {},
   "source": [
    "This is not the only way to run a PERMANOVA test, either. check out the help documentation for the following action, which allows running a multivariate PERMANOVA test. The `adonis` implementation of PERMANOVA (part of the r-vegan package) accepts a formula as input, which can consist of one or more independent terms. See the documentation for more details. **_This might be particularly useful in your group projects for testing which covariates explain the most variation in your datasets._** Enjoy!"
   ]
  },
  {
   "cell_type": "code",
   "execution_count": 20,
   "id": "080f8551",
   "metadata": {},
   "outputs": [
    {
     "name": "stdout",
     "output_type": "stream",
     "text": [
      "Usage: \u001b[34mqiime diversity adonis\u001b[0m [OPTIONS]\r\n",
      "\r\n",
      "  Determine whether groups of samples are significantly different from one\r\n",
      "  another using the ADONIS permutation-based statistical test in vegan-R.\r\n",
      "  The function partitions sums of squares of a multivariate data set, and is\r\n",
      "  directly analogous to MANOVA (multivariate analysis of variance). This\r\n",
      "  action differs from beta_group_significance in that it accepts R formulae\r\n",
      "  to perform multi-way ADONIS tests; beta_group_signficance only performs\r\n",
      "  one-way tests. For more details, consult the reference manual available on\r\n",
      "  the CRAN vegan page: https://CRAN.R-project.org/package=vegan\r\n",
      "\r\n",
      "\u001b[1mInputs\u001b[0m:\r\n",
      "  \u001b[34m\u001b[4m--i-distance-matrix\u001b[0m ARTIFACT\r\n",
      "    \u001b[32mDistanceMatrix\u001b[0m     Matrix of distances between pairs of samples.\r\n",
      "                                                                    \u001b[35m[required]\u001b[0m\r\n",
      "\u001b[1mParameters\u001b[0m:\r\n",
      "  \u001b[34m\u001b[4m--m-metadata-file\u001b[0m METADATA...\r\n",
      "    (multiple          Sample metadata containing formula terms.\r\n",
      "     arguments will    \r\n",
      "     be merged)                                                     \u001b[35m[required]\u001b[0m\r\n",
      "  \u001b[34m\u001b[4m--p-formula\u001b[0m TEXT     Model formula containing only independent terms\r\n",
      "                       contained in the sample metadata. These can be\r\n",
      "                       continuous variables or factors, and they can have\r\n",
      "                       interactions as in a typical R formula. E.g., the\r\n",
      "                       formula \"treatment+block\" would test whether the input\r\n",
      "                       distance matrix partitions based on \"treatment\" and\r\n",
      "                       \"block\" sample metadata. The formula \"treatment*block\"\r\n",
      "                       would test both of those effects as well as their\r\n",
      "                       interaction. Enclose formulae in quotes to avoid\r\n",
      "                       unpleasant surprises.                        \u001b[35m[required]\u001b[0m\r\n",
      "  \u001b[34m--p-permutations\u001b[0m INTEGER\r\n",
      "    \u001b[32mRange(1, None)\u001b[0m     The number of permutations to be run when computing\r\n",
      "                       p-values.                                \u001b[35m[default: 999]\u001b[0m\r\n",
      "  \u001b[34m--p-n-jobs\u001b[0m INTEGER   Number of parallel processes to run.\r\n",
      "    \u001b[32mRange(1, None)\u001b[0m                                                \u001b[35m[default: 1]\u001b[0m\r\n",
      "\u001b[1mOutputs\u001b[0m:\r\n",
      "  \u001b[34m\u001b[4m--o-visualization\u001b[0m VISUALIZATION\r\n",
      "                                                                    \u001b[35m[required]\u001b[0m\r\n",
      "\u001b[1mMiscellaneous\u001b[0m:\r\n",
      "  \u001b[34m--output-dir\u001b[0m PATH    Output unspecified results to a directory\r\n",
      "  \u001b[34m--verbose\u001b[0m / \u001b[34m--quiet\u001b[0m  Display verbose output to stdout and/or stderr during\r\n",
      "                       execution of this action. Or silence output if\r\n",
      "                       execution is successful (silence is golden).\r\n",
      "  \u001b[34m--examples\u001b[0m           Show usage examples and exit.\r\n",
      "  \u001b[34m--citations\u001b[0m          Show citations and exit.\r\n",
      "  \u001b[34m--help\u001b[0m               Show this message and exit.\r\n"
     ]
    }
   ],
   "source": [
    "! qiime diversity adonis --help"
   ]
  },
  {
   "cell_type": "code",
   "execution_count": null,
   "id": "003b97d6",
   "metadata": {},
   "outputs": [],
   "source": []
  }
 ],
 "metadata": {
  "kernelspec": {
   "display_name": "Python 3 (ipykernel)",
   "language": "python",
   "name": "python3"
  },
  "language_info": {
   "codemirror_mode": {
    "name": "ipython",
    "version": 3
   },
   "file_extension": ".py",
   "mimetype": "text/x-python",
   "name": "python",
   "nbconvert_exporter": "python",
   "pygments_lexer": "ipython3",
   "version": "3.8.10"
  },
  "toc": {
   "base_numbering": 1,
   "nav_menu": {},
   "number_sections": true,
   "sideBar": true,
   "skip_h1_title": false,
   "title_cell": "Table of Contents",
   "title_sidebar": "Contents",
   "toc_cell": false,
   "toc_position": {},
   "toc_section_display": true,
   "toc_window_display": false
  }
 },
 "nbformat": 4,
 "nbformat_minor": 5
}
